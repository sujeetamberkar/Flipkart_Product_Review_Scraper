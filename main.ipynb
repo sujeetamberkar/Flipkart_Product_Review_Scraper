{
 "cells": [
  {
   "cell_type": "code",
   "execution_count": 10,
   "id": "0010a2d7-5a04-45b3-b12d-fdfb2bf7e129",
   "metadata": {},
   "outputs": [],
   "source": [
    "import requests\n",
    "from bs4 import BeautifulSoup as bs\n",
    "from urllib.request import urlopen as uReq\n",
    "import logging\n"
   ]
  },
  {
   "cell_type": "code",
   "execution_count": 11,
   "id": "6a15ed63-bfff-4f64-b1c9-9776565a296a",
   "metadata": {},
   "outputs": [],
   "source": [
    "def get_search_string():\n",
    "    try:\n",
    "        searchString_temp = input(\"input \")\n",
    "        searchString = searchString_temp.replace(\" \", \"\")\n",
    "    except:\n",
    "        searchString_temp = \"nokia\"\n",
    "        searchString = searchString_temp.replace(\" \", \"\")\n",
    "    return searchString"
   ]
  },
  {
   "cell_type": "code",
   "execution_count": 12,
   "id": "3c73203d-6e8d-4133-a716-c65e3eea0921",
   "metadata": {},
   "outputs": [],
   "source": [
    "def get_product_page(search_string):\n",
    "    flipkart_url = \"https://www.flipkart.com/search?q=\" + search_string\n",
    "    with uReq(flipkart_url) as uClient:\n",
    "        flipkartPage = uClient.read()\n",
    "    flipkart_html = bs(flipkartPage, \"html.parser\")\n",
    "    bigboxes = flipkart_html.findAll(\"div\", {\"class\": \"_1AtVbE col-12-12\"})\n",
    "    del bigboxes[0:3]\n",
    "    box = bigboxes[0]\n",
    "    url='https://www.flipkart.com'+box.div.div.div.a['href']\n",
    "    return url"
   ]
  },
  {
   "cell_type": "code",
   "execution_count": 13,
   "id": "619b62fd-79c3-45cb-be9c-d68b0aafc068",
   "metadata": {},
   "outputs": [],
   "source": [
    "def get_comment_data(url):\n",
    "    product_req=requests.get(url)\n",
    "    product_html=bs(product_req.text,\"html.parser\")\n",
    "    comment_box=product_html.find_all(\"div\",{\"class\":\"_16PBlm\"})\n",
    "\n",
    "    name=[]\n",
    "    comment_list=[]\n",
    "    ratingList=[]\n",
    "    comment_heading=[]\n",
    "\n",
    "    for i in comment_box:\n",
    "        try:\n",
    "            temp_name = i.div.div.find_all('p', {'class': '_2sc7ZR _2V5EHH'})[0].text\n",
    "            name.append(temp_name)\n",
    "            temp_comment=comment_box[0].div.div.find_all('div', {'class':\"\"})[0].text\n",
    "            comment_list.append(temp_comment)\n",
    "            temp_rating=comment_box[0].div.div.div.find_all('div',{'class':\"_3LWZlK _1BLPMq\"})[0].text\n",
    "            ratingList.append(temp_rating)\n",
    "            temp_comment_heading=i.div.div.div.find_all('p',{'class':'_2-N8zT'})[0].text\n",
    "            comment_heading.append(temp_comment_heading)\n",
    "        except:\n",
    "            continue\n",
    "\n",
    "    return name, comment_list, ratingList, comment_heading"
   ]
  },
  {
   "cell_type": "code",
   "execution_count": 14,
   "id": "b809b301-1585-4d8f-b8cc-87415c936f35",
   "metadata": {},
   "outputs": [],
   "source": [
    "def print_comments(name, comment_list, ratingList, comment_heading):\n",
    "    for i in range(len(comment_heading)):\n",
    "        try:\n",
    "            print(\"Name: \"+str(name[i]))\n",
    "            print(\"Comment Heading: \"+ str(comment_heading[i]))\n",
    "            print(\"Rating: \"+str(ratingList[i]))\n",
    "            print(\"Comment: \"+str(comment_list[i]))\n",
    "            print(\"###########################\")\n",
    "        except:\n",
    "            continue\n"
   ]
  },
  {
   "cell_type": "code",
   "execution_count": 15,
   "id": "71dba32f-36a1-4296-b0ff-050c2062eaf4",
   "metadata": {},
   "outputs": [
    {
     "name": "stdin",
     "output_type": "stream",
     "text": [
      "input  iphone13\n"
     ]
    },
    {
     "name": "stdout",
     "output_type": "stream",
     "text": [
      "Name: Rohit Sharma\n",
      "Comment Heading: Mind-blowing purchase\n",
      "Rating: 5\n",
      "Comment: Finally Switched from android. In hand feel is super amazing. Photos comes out very good. Stereo Speaker is loud and clear. Screen quality is wow i mean watching experience is super satisfying. And the haptics is also very good .READ MORE\n",
      "###########################\n",
      "Name: Arnab Das\n",
      "Comment Heading: Perfect product!\n",
      "Rating: 5\n",
      "Comment: Finally Switched from android. In hand feel is super amazing. Photos comes out very good. Stereo Speaker is loud and clear. Screen quality is wow i mean watching experience is super satisfying. And the haptics is also very good .READ MORE\n",
      "###########################\n",
      "Name: Mahim Chauhan\n",
      "Comment Heading: Brilliant\n",
      "Rating: 5\n",
      "Comment: Finally Switched from android. In hand feel is super amazing. Photos comes out very good. Stereo Speaker is loud and clear. Screen quality is wow i mean watching experience is super satisfying. And the haptics is also very good .READ MORE\n",
      "###########################\n",
      "Name: Flipkart Customer\n",
      "Comment Heading: Excellent\n",
      "Rating: 5\n",
      "Comment: Finally Switched from android. In hand feel is super amazing. Photos comes out very good. Stereo Speaker is loud and clear. Screen quality is wow i mean watching experience is super satisfying. And the haptics is also very good .READ MORE\n",
      "###########################\n",
      "Name: Mahesh Jaiswara\n",
      "Comment Heading: Perfect product!\n",
      "Rating: 5\n",
      "Comment: Finally Switched from android. In hand feel is super amazing. Photos comes out very good. Stereo Speaker is loud and clear. Screen quality is wow i mean watching experience is super satisfying. And the haptics is also very good .READ MORE\n",
      "###########################\n",
      "Name: Vaibhav  Raj\n",
      "Comment Heading: Fabulous!\n",
      "Rating: 5\n",
      "Comment: Finally Switched from android. In hand feel is super amazing. Photos comes out very good. Stereo Speaker is loud and clear. Screen quality is wow i mean watching experience is super satisfying. And the haptics is also very good .READ MORE\n",
      "###########################\n",
      "Name: Rajan Khan\n",
      "Comment Heading: Simply awesome\n",
      "Rating: 5\n",
      "Comment: Finally Switched from android. In hand feel is super amazing. Photos comes out very good. Stereo Speaker is loud and clear. Screen quality is wow i mean watching experience is super satisfying. And the haptics is also very good .READ MORE\n",
      "###########################\n",
      "Name: Maharshi Pandey\n",
      "Comment Heading: Excellent\n",
      "Rating: 5\n",
      "Comment: Finally Switched from android. In hand feel is super amazing. Photos comes out very good. Stereo Speaker is loud and clear. Screen quality is wow i mean watching experience is super satisfying. And the haptics is also very good .READ MORE\n",
      "###########################\n",
      "Name: Vishal Dubey\n",
      "Comment Heading: Must buy!\n",
      "Rating: 5\n",
      "Comment: Finally Switched from android. In hand feel is super amazing. Photos comes out very good. Stereo Speaker is loud and clear. Screen quality is wow i mean watching experience is super satisfying. And the haptics is also very good .READ MORE\n",
      "###########################\n",
      "Name: Flipkart Customer\n",
      "Comment Heading: Perfect product!\n",
      "Rating: 5\n",
      "Comment: Finally Switched from android. In hand feel is super amazing. Photos comes out very good. Stereo Speaker is loud and clear. Screen quality is wow i mean watching experience is super satisfying. And the haptics is also very good .READ MORE\n",
      "###########################\n"
     ]
    }
   ],
   "source": [
    "\n",
    "def main():\n",
    "    search_string = get_search_string()\n",
    "    product_url = get_product_page(search_string)\n",
    "    name, comments, ratings, headings = get_comment_data(product_url)\n",
    "    print_comments(name, comments, ratings, headings)\n",
    "\n",
    "if __name__ == \"__main__\":\n",
    "    main()"
   ]
  },
  {
   "cell_type": "code",
   "execution_count": null,
   "id": "4e4de335-2c52-4acb-97c5-3a7256f7dec2",
   "metadata": {},
   "outputs": [],
   "source": []
  }
 ],
 "metadata": {
  "kernelspec": {
   "display_name": "Python 3 (ipykernel)",
   "language": "python",
   "name": "python3"
  },
  "language_info": {
   "codemirror_mode": {
    "name": "ipython",
    "version": 3
   },
   "file_extension": ".py",
   "mimetype": "text/x-python",
   "name": "python",
   "nbconvert_exporter": "python",
   "pygments_lexer": "ipython3",
   "version": "3.10.8"
  }
 },
 "nbformat": 4,
 "nbformat_minor": 5
}
